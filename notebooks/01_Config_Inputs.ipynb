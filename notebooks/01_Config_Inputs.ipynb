{
 "cells": [
  {
   "cell_type": "markdown",
   "metadata": {},
   "source": [
    "# Config & Inputs\n",
    "\n",
    "Use the widgets below to select simulation parameters and initial conditions, then save them."
   ]
  },
  {
   "cell_type": "code",
   "execution_count": 2,
   "metadata": {},
   "outputs": [
    {
     "data": {
      "application/vnd.jupyter.widget-view+json": {
       "model_id": "499ea35c2e294d0aad67bea4946becaf",
       "version_major": 2,
       "version_minor": 0
      },
      "text/plain": [
       "VBox(children=(FloatLogSlider(value=1e-07, description='I', max=-4.0, min=-8.0), FloatLogSlider(value=0.001, d…"
      ]
     },
     "metadata": {},
     "output_type": "display_data"
    }
   ],
   "source": [
    "import json\n",
    "import numpy as np\n",
    "from ipywidgets import FloatLogSlider, FloatSlider, Button, HBox, VBox, Label\n",
    "from IPython.display import display\n",
    "import os\n",
    "\n",
    "# compute project root as “one level above this notebook”\n",
    "PROJECT_ROOT = os.path.abspath(os.path.join(os.getcwd(), os.pardir))\n",
    "\n",
    "\n",
    "# Parameter widgets\n",
    "I_widget     = FloatLogSlider(value=1e-7, base=10, min=-8, max=-4, step=0.1, description='I')\n",
    "mB_widget    = FloatLogSlider(value=0.001, base=10, min=-4, max=0, step=0.1, description='mB')\n",
    "omega_widget = FloatLogSlider(value=188.496, base=10, min=1, max=3, step=0.1, description='ω')\n",
    "gamma_widget= FloatSlider(value=0.1414, min=0.0, max=3.14, step=0.01, description='γ')\n",
    "damping_widget = FloatSlider(value=0.0, min=0.0, max=1.0, step=0.01, description='damping')\n",
    "\n",
    "# Initial angles\n",
    "theta0_widget = FloatSlider(value=0.2837, min=0.0, max=3.14, step=0.01, description='θ0')\n",
    "phi0_widget   = FloatSlider(value=0.0, min=0.0, max=6.28, step=0.01, description='φ0')\n",
    "psi0_widget   = FloatSlider(value=0.0, min=0.0, max=6.28, step=0.01, description='ψ0')\n",
    "omega_body0_widget = FloatLogSlider(value=188.496, base=10, min=1, max=3, step=0.1, description='ω_body0')\n",
    "\n",
    "# Save button\n",
    "save_btn = Button(description='Save Config', button_style='success')\n",
    "\n",
    "def save_config(b):\n",
    "    params = {\n",
    "        'I': I_widget.value,\n",
    "        'mB': mB_widget.value,\n",
    "        'omega': omega_widget.value,\n",
    "        'gamma': gamma_widget.value,\n",
    "        'damping': damping_widget.value,\n",
    "    }\n",
    "    # Save initial angles into results folder\n",
    "    ic_path = os.path.join(PROJECT_ROOT, 'initial_conditions.npz')\n",
    "    np.savez(ic_path,\n",
    "             theta0=theta0_widget.value,\n",
    "             phi0=phi0_widget.value,\n",
    "             psi0=psi0_widget.value,\n",
    "             omega_body0=omega_body0_widget.value)\n",
    "\n",
    "    # Save config.json into project root\n",
    "    cfg_path = os.path.join(PROJECT_ROOT, 'config.json')\n",
    "    with open(cfg_path, 'w') as f:\n",
    "        json.dump(params, f, indent=2)\n",
    "\n",
    "    print(f'✅ Saved:\\n  • {ic_path}\\n  • {cfg_path}')\n",
    "\n",
    "\n",
    "save_btn.on_click(save_config)\n",
    "display(VBox([I_widget, mB_widget, omega_widget, gamma_widget, damping_widget,\n",
    "              theta0_widget, phi0_widget, psi0_widget, omega_body0_widget, save_btn]))\n"
   ]
  }
 ],
 "metadata": {
  "kernelspec": {
   "display_name": "Python 3 (ipykernel)",
   "language": "python",
   "name": "python3"
  },
  "language_info": {
   "codemirror_mode": {
    "name": "ipython",
    "version": 3
   },
   "file_extension": ".py",
   "mimetype": "text/x-python",
   "name": "python",
   "nbconvert_exporter": "python",
   "pygments_lexer": "ipython3",
   "version": "3.10.12"
  }
 },
 "nbformat": 4,
 "nbformat_minor": 4
}
