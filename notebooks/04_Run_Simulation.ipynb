{
 "cells": [
  {
   "cell_type": "markdown",
   "metadata": {},
   "source": [
    "# Live Simulation Runner\n",
    "Numerically integrate and animate."
   ]
  },
  {
   "cell_type": "code",
   "execution_count": 1,
   "metadata": {},
   "outputs": [
    {
     "ename": "NameError",
     "evalue": "name 'I_v' is not defined",
     "output_type": "error",
     "traceback": [
      "\u001b[0;31m---------------------------------------------------------------------------\u001b[0m",
      "\u001b[0;31mNameError\u001b[0m                                 Traceback (most recent call last)",
      "Cell \u001b[0;32mIn[1], line 37\u001b[0m\n\u001b[1;32m     30\u001b[0m \u001b[38;5;66;03m# now call solve_ivp over your desired time span, say 0…T\u001b[39;00m\n\u001b[1;32m     31\u001b[0m T \u001b[38;5;241m=\u001b[39m \u001b[38;5;241m1.0\u001b[39m  \u001b[38;5;66;03m# seconds, or whatever you want\u001b[39;00m\n\u001b[1;32m     32\u001b[0m sol \u001b[38;5;241m=\u001b[39m solve_ivp(\n\u001b[1;32m     33\u001b[0m     fun\u001b[38;5;241m=\u001b[39meom,\n\u001b[1;32m     34\u001b[0m     t_span\u001b[38;5;241m=\u001b[39m(\u001b[38;5;241m0\u001b[39m, T),\n\u001b[1;32m     35\u001b[0m     y0\u001b[38;5;241m=\u001b[39my0,\n\u001b[1;32m     36\u001b[0m     args\u001b[38;5;241m=\u001b[39m(  \u001b[38;5;66;03m# pass any extra parameters your eom needs\u001b[39;00m\n\u001b[0;32m---> 37\u001b[0m         \u001b[43mI_v\u001b[49m,\n\u001b[1;32m     38\u001b[0m         mB_v,\n\u001b[1;32m     39\u001b[0m         gamma_v,\n\u001b[1;32m     40\u001b[0m         om_B,\n\u001b[1;32m     41\u001b[0m         damping\n\u001b[1;32m     42\u001b[0m     ),\n\u001b[1;32m     43\u001b[0m     t_eval\u001b[38;5;241m=\u001b[39mnp\u001b[38;5;241m.\u001b[39mlinspace(\u001b[38;5;241m0\u001b[39m, T, \u001b[38;5;241m1000\u001b[39m),\n\u001b[1;32m     44\u001b[0m     rtol\u001b[38;5;241m=\u001b[39m\u001b[38;5;241m1e-8\u001b[39m, atol\u001b[38;5;241m=\u001b[39m\u001b[38;5;241m1e-10\u001b[39m\n\u001b[1;32m     45\u001b[0m )\n\u001b[1;32m     48\u001b[0m \u001b[38;5;66;03m#solve\u001b[39;00m\n\u001b[1;32m     49\u001b[0m sol\u001b[38;5;241m=\u001b[39msolve_ivp(eom,[\u001b[38;5;241m0\u001b[39m,\u001b[38;5;241m1\u001b[39m],\u001b[38;5;241m.\u001b[39m\u001b[38;5;241m.\u001b[39m\u001b[38;5;241m.\u001b[39m)\n",
      "\u001b[0;31mNameError\u001b[0m: name 'I_v' is not defined"
     ]
    }
   ],
   "source": [
    "# Live Simulation Runner\n",
    "import os, sys\n",
    "\n",
    "# Point Python at the project root\n",
    "PROJECT_ROOT = os.path.abspath(os.path.join(os.getcwd(), os.pardir))\n",
    "sys.path.insert(0, PROJECT_ROOT)\n",
    "\n",
    "# Now imports will work\n",
    "from src.simulator import eom\n",
    "from scipy.integrate import solve_ivp\n",
    "\n",
    "# Rest of your code…\n",
    "# load your initial_conditions.npz (or use the widgets you already have in memory)\n",
    "import numpy as np\n",
    "ic = np.load(os.path.join(PROJECT_ROOT, 'initial_conditions.npz'))\n",
    "th0 = ic['theta0']\n",
    "ph0 = ic['phi0']\n",
    "ps0 = ic['psi0']\n",
    "om_body0 = ic['omega_body0']\n",
    "\n",
    "# decide on your initial angular velocities:\n",
    "# you probably stored them as well in that .npz, else hard‑code from widgets\n",
    "thd0 = 0.0        # or ic['theta_dot0'] if you saved it\n",
    "phd0 = 0.0        # or ic['phi_dot0']\n",
    "psd0 = om_body0   # your startup spin rate\n",
    "\n",
    "# build the state vector\n",
    "y0 = [th0, thd0, ph0, phd0, ps0, psd0]\n",
    "\n",
    "# now call solve_ivp over your desired time span, say 0…T\n",
    "T = 1.0  # seconds, or whatever you want\n",
    "sol = solve_ivp(\n",
    "    fun=eom,\n",
    "    t_span=(0, T),\n",
    "    y0=y0,\n",
    "    args=(  # pass any extra parameters your eom needs\n",
    "        I_v,\n",
    "        mB_v,\n",
    "        gamma_v,\n",
    "        om_B,\n",
    "        damping\n",
    "    ),\n",
    "    t_eval=np.linspace(0, T, 1000),\n",
    "    rtol=1e-8, atol=1e-10\n",
    ")\n",
    "\n",
    "\n",
    "#solve\n",
    "sol=solve_ivp(eom,[0,1],...)\n",
    "# save CSV & gif\n",
    "\n"
   ]
  }
 ],
 "metadata": {
  "kernelspec": {
   "display_name": "Python 3 (ipykernel)",
   "language": "python",
   "name": "python3"
  },
  "language_info": {
   "codemirror_mode": {
    "name": "ipython",
    "version": 3
   },
   "file_extension": ".py",
   "mimetype": "text/x-python",
   "name": "python",
   "nbconvert_exporter": "python",
   "pygments_lexer": "ipython3",
   "version": "3.10.12"
  }
 },
 "nbformat": 4,
 "nbformat_minor": 4
}
