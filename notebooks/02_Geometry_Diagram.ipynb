{
 "cells": [
  {
   "cell_type": "markdown",
   "metadata": {},
   "source": [
    "# Geometry & Setup Diagram\n",
    "\n",
    "This notebook loads the configuration and initial conditions, computes the lab-frame magnetic field and body magnetic moment vectors, and renders a 3D diagram."
   ]
  },
  {
   "cell_type": "code",
   "execution_count": 1,
   "metadata": {},
   "outputs": [
    {
     "ename": "FileNotFoundError",
     "evalue": "[Errno 2] No such file or directory: 'config.json'",
     "output_type": "error",
     "traceback": [
      "\u001b[0;31m---------------------------------------------------------------------------\u001b[0m",
      "\u001b[0;31mFileNotFoundError\u001b[0m                         Traceback (most recent call last)",
      "Cell \u001b[0;32mIn[1], line 15\u001b[0m\n\u001b[1;32m     12\u001b[0m os\u001b[38;5;241m.\u001b[39mmakedirs(\u001b[38;5;124m'\u001b[39m\u001b[38;5;124mresults\u001b[39m\u001b[38;5;124m'\u001b[39m, exist_ok\u001b[38;5;241m=\u001b[39m\u001b[38;5;28;01mTrue\u001b[39;00m)\n\u001b[1;32m     14\u001b[0m \u001b[38;5;66;03m# Load configuration parameters\u001b[39;00m\n\u001b[0;32m---> 15\u001b[0m \u001b[38;5;28;01mwith\u001b[39;00m \u001b[38;5;28;43mopen\u001b[39;49m\u001b[43m(\u001b[49m\u001b[38;5;124;43m'\u001b[39;49m\u001b[38;5;124;43mconfig.json\u001b[39;49m\u001b[38;5;124;43m'\u001b[39;49m\u001b[43m)\u001b[49m \u001b[38;5;28;01mas\u001b[39;00m f:\n\u001b[1;32m     16\u001b[0m     params \u001b[38;5;241m=\u001b[39m json\u001b[38;5;241m.\u001b[39mload(f)\n\u001b[1;32m     17\u001b[0m mB \u001b[38;5;241m=\u001b[39m params[\u001b[38;5;124m'\u001b[39m\u001b[38;5;124mmB\u001b[39m\u001b[38;5;124m'\u001b[39m]\n",
      "File \u001b[0;32m~/.local/lib/python3.10/site-packages/IPython/core/interactiveshell.py:324\u001b[0m, in \u001b[0;36m_modified_open\u001b[0;34m(file, *args, **kwargs)\u001b[0m\n\u001b[1;32m    317\u001b[0m \u001b[38;5;28;01mif\u001b[39;00m file \u001b[38;5;129;01min\u001b[39;00m {\u001b[38;5;241m0\u001b[39m, \u001b[38;5;241m1\u001b[39m, \u001b[38;5;241m2\u001b[39m}:\n\u001b[1;32m    318\u001b[0m     \u001b[38;5;28;01mraise\u001b[39;00m \u001b[38;5;167;01mValueError\u001b[39;00m(\n\u001b[1;32m    319\u001b[0m         \u001b[38;5;124mf\u001b[39m\u001b[38;5;124m\"\u001b[39m\u001b[38;5;124mIPython won\u001b[39m\u001b[38;5;124m'\u001b[39m\u001b[38;5;124mt let you open fd=\u001b[39m\u001b[38;5;132;01m{\u001b[39;00mfile\u001b[38;5;132;01m}\u001b[39;00m\u001b[38;5;124m by default \u001b[39m\u001b[38;5;124m\"\u001b[39m\n\u001b[1;32m    320\u001b[0m         \u001b[38;5;124m\"\u001b[39m\u001b[38;5;124mas it is likely to crash IPython. If you know what you are doing, \u001b[39m\u001b[38;5;124m\"\u001b[39m\n\u001b[1;32m    321\u001b[0m         \u001b[38;5;124m\"\u001b[39m\u001b[38;5;124myou can use builtins\u001b[39m\u001b[38;5;124m'\u001b[39m\u001b[38;5;124m open.\u001b[39m\u001b[38;5;124m\"\u001b[39m\n\u001b[1;32m    322\u001b[0m     )\n\u001b[0;32m--> 324\u001b[0m \u001b[38;5;28;01mreturn\u001b[39;00m \u001b[43mio_open\u001b[49m\u001b[43m(\u001b[49m\u001b[43mfile\u001b[49m\u001b[43m,\u001b[49m\u001b[43m \u001b[49m\u001b[38;5;241;43m*\u001b[39;49m\u001b[43margs\u001b[49m\u001b[43m,\u001b[49m\u001b[43m \u001b[49m\u001b[38;5;241;43m*\u001b[39;49m\u001b[38;5;241;43m*\u001b[39;49m\u001b[43mkwargs\u001b[49m\u001b[43m)\u001b[49m\n",
      "\u001b[0;31mFileNotFoundError\u001b[0m: [Errno 2] No such file or directory: 'config.json'"
     ]
    }
   ],
   "source": [
    "import os, json\n",
    "import numpy as np\n",
    "import matplotlib.pyplot as plt\n",
    "from mpl_toolkits.mplot3d import Axes3D\n",
    "import os\n",
    "\n",
    "# compute project root as “one level above this notebook”\n",
    "PROJECT_ROOT = os.path.abspath(os.path.join(os.getcwd(), os.pardir))\n",
    "\n",
    "\n",
    "# Ensure results directory exists\n",
    "os.makedirs('results', exist_ok=True)\n",
    "\n",
    "# Load configuration parameters\n",
    "with open('config.json') as f:\n",
    "    params = json.load(f)\n",
    "mB = params['mB']\n",
    "omega = params['omega']\n",
    "gamma = params['gamma']\n",
    "\n",
    "# Load initial conditions\n",
    "ic = np.load('initial_conditions.npz')\n",
    "theta0 = ic['theta0']\n",
    "phi0 = ic['phi0']\n",
    "psi0 = ic['psi0']\n",
    "\n",
    "# Compute lab-frame magnetic field at t=0\n",
    "t0 = 0.0\n",
    "Bx = mB * np.cos(omega*t0) * np.cos(gamma)\n",
    "By = mB * np.sin(omega*t0) * np.cos(gamma)\n",
    "Bz = mB * np.sin(gamma)\n",
    "\n",
    "# Compute body magnetic moment in lab frame via Euler angles\n",
    "Rz_phi = np.array([\n",
    "    [np.cos(phi0), -np.sin(phi0), 0],\n",
    "    [np.sin(phi0),  np.cos(phi0), 0],\n",
    "    [0,            0,             1]\n",
    "])\n",
    "Rx_theta = np.array([\n",
    "    [1, 0, 0],\n",
    "    [0, np.cos(theta0), -np.sin(theta0)],\n",
    "    [0, np.sin(theta0),  np.cos(theta0)]\n",
    "])\n",
    "Rz_psi = np.array([\n",
    "    [np.cos(psi0), -np.sin(psi0), 0],\n",
    "    [np.sin(psi0),  np.cos(psi0), 0],\n",
    "    [0,            0,             1]\n",
    "])\n",
    "R = Rz_phi @ Rx_theta @ Rz_psi\n",
    "m_body = np.array([0,0,1])\n",
    "m_lab = R @ m_body\n",
    "mx, my, mz = m_lab\n",
    "\n",
    "# Plotting\n",
    "fig = plt.figure()\n",
    "ax = fig.add_subplot(111, projection='3d')\n",
    "ax.quiver(0,0,0, Bx, By, Bz, color='blue', length=1, normalize=True, label='B')\n",
    "ax.quiver(0,0,0, mx, my, mz, color='red', length=1, normalize=True, label='m')\n",
    "ax.set_xlabel('X'); ax.set_ylabel('Y'); ax.set_zlabel('Z')\n",
    "ax.legend()\n",
    "plt.title('Geometry: B and m in Lab Frame')\n",
    "plt.savefig('results/geometry_diagram.png')\n",
    "print('✔ Saved results/geometry_diagram.png')\n"
   ]
  }
 ],
 "metadata": {
  "kernelspec": {
   "display_name": "Python 3 (ipykernel)",
   "language": "python",
   "name": "python3"
  },
  "language_info": {
   "codemirror_mode": {
    "name": "ipython",
    "version": 3
   },
   "file_extension": ".py",
   "mimetype": "text/x-python",
   "name": "python",
   "nbconvert_exporter": "python",
   "pygments_lexer": "ipython3",
   "version": "3.10.12"
  }
 },
 "nbformat": 4,
 "nbformat_minor": 4
}
