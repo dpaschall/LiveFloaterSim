{
 "cells": [
  {
   "cell_type": "markdown",
   "id": "8080723a",
   "metadata": {},
   "source": [
    "# Main Simulation Orchestrator\n",
    "This notebook calls modular components to run the full pipeline."
   ]
  },
  {
   "cell_type": "code",
   "execution_count": null,
   "id": "fce7956a",
   "metadata": {},
   "outputs": [],
   "source": [
    "import logging\n",
    "from pathlib import Path\n",
    "\n",
    "# Setup logging\n",
    "logfile = Path.cwd().parent / \"run_log.txt\"\n",
    "logfile.touch(exist_ok=True)\n",
    "logging.basicConfig(\n",
    "    filename=logfile,\n",
    "    level=logging.INFO,\n",
    "    format='%(asctime)s [%(levelname)s] %(name)s: %(message)s',\n",
    "    datefmt='%Y-%m-%d %H:%M:%S'\n",
    ")\n",
    "logger = logging.getLogger(__name__)\n",
    "logger.info(\"=== Starting Main Simulator ===\")\n"
   ]
  },
  {
   "cell_type": "code",
   "execution_count": null,
   "id": "3ca1715c",
   "metadata": {},
   "outputs": [],
   "source": [
    "# Load Config\n",
    "from config import load_config\n",
    "config = load_config()\n",
    "logger.info(f\"Loaded config: {config}\")"
   ]
  },
  {
   "cell_type": "code",
   "execution_count": null,
   "id": "a5d79134",
   "metadata": {},
   "outputs": [],
   "source": [
    "# Generate Geometry Diagram\n",
    "from geometry import generate_geometry\n",
    "generate_geometry()"
   ]
  },
  {
   "cell_type": "code",
   "execution_count": null,
   "id": "8c3fb1a9",
   "metadata": {},
   "outputs": [],
   "source": [
    "# Compute Symbolic Equations\n",
    "from symbolic import compute_symbolic_equations\n",
    "compute_symbolic_equations()"
   ]
  },
  {
   "cell_type": "code",
   "execution_count": null,
   "id": "7998cec2",
   "metadata": {},
   "outputs": [],
   "source": [
    "# Run Simulation\n",
    "from simulation import run_simulation\n",
    "run_simulation(config)"
   ]
  },
  {
   "cell_type": "code",
   "execution_count": null,
   "id": "c2663c7c",
   "metadata": {},
   "outputs": [],
   "source": [
    "# Post-Processing and Animation\n",
    "from postprocess import create_animation\n",
    "create_animation()"
   ]
  },
  {
   "cell_type": "code",
   "execution_count": null,
   "id": "c12af27c",
   "metadata": {},
   "outputs": [],
   "source": [
    "# Upload log after run\n",
    "import subprocess\n",
    "try:\n",
    "    subprocess.run([\"bash\", \"../upload_log.sh\"], check=True)\n",
    "    logger.info(\"Log upload successful.\")\n",
    "except Exception as e:\n",
    "    logger.error(f\"Log upload failed: {e}\")\n"
   ]
  }
 ],
 "metadata": {
  "kernelspec": {
   "display_name": "Python 3",
   "name": "python3"
  }
 },
 "nbformat": 4,
 "nbformat_minor": 5
}
